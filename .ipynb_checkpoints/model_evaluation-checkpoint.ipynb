{
 "cells": [
  {
   "cell_type": "markdown",
   "metadata": {},
   "source": [
    "# ASSIGNMENT 4 - MODEL EVALUATION"
   ]
  },
  {
   "cell_type": "code",
   "execution_count": 1,
   "metadata": {},
   "outputs": [],
   "source": [
    "# import libraries: os, string, numpy, sklearn, matplotlib\n",
    "import os\n",
    "import string\n",
    "import numpy as np\n",
    "from sklearn.feature_extraction.text import TfidfVectorizer, CountVectorizer\n",
    "from sklearn.metrics.pairwise import cosine_similarity\n",
    "import matplotlib.pyplot as plt"
   ]
  },
  {
   "cell_type": "markdown",
   "metadata": {},
   "source": [
    "## Analyze data\n",
    "1. Corpus is stored in folder **20_newsgroups**\n",
    "* Initialize variables\n",
    "* Iterate through all subfolders - files\n",
    "* Get information of classes, corpus -> index them\n",
    "\n",
    "### Return\n",
    "* **corpus_f**: list of document filenames\n",
    "* **list**: class dictionary\n",
    "* **corpus**: map of document indexes"
   ]
  },
  {
   "cell_type": "code",
   "execution_count": 5,
   "metadata": {},
   "outputs": [],
   "source": [
    "def analyze_data():\n",
    "    path = './20_newsgroups'\n",
    "    corpus_f = []\n",
    "    classes = {}\n",
    "    corpus = {}\n",
    "    num_classes = 0\n",
    "    num_docs = 0\n",
    "\n",
    "    for _class in os.listdir(path):\n",
    "        folder = os.path.join(path, _class)\n",
    "        classes[_class] = num_classes\n",
    "        num_classes += 1\n",
    "        for docId in os.listdir(folder):\n",
    "            file = os.path.join(folder, docId)\n",
    "            corpus[num_docs] = (docId, _class)\n",
    "            num_docs += 1\n",
    "            corpus_f.append(file)\n",
    "        \n",
    "    return corpus_f, classes, corpus\n",
    "\n",
    "corpus_f, classes, corpus = analyze_data()"
   ]
  },
  {
   "cell_type": "markdown",
   "metadata": {},
   "source": [
    "## Get query filenames\n",
    "* Iterate through all files in folder **query** to get filenames"
   ]
  },
  {
   "cell_type": "code",
   "execution_count": 6,
   "metadata": {},
   "outputs": [],
   "source": [
    "def get_query_filename():\n",
    "    query_path = './query'\n",
    "    query_f = [os.path.join(query_path, i) for i in os.listdir(query_path)]\n",
    "    \n",
    "    return query_f\n",
    "\n",
    "query_f = get_query_filename()"
   ]
  },
  {
   "cell_type": "markdown",
   "metadata": {},
   "source": [
    "## Create tf-idf table\n",
    "* Use **scikit-learn** to create tf-idf table"
   ]
  },
  {
   "cell_type": "code",
   "execution_count": 7,
   "metadata": {},
   "outputs": [],
   "source": [
    "def tf_idf_table(filename):\n",
    "    vectorizer = TfidfVectorizer(input='filename', stop_words='english', decode_error='ignore')\n",
    "    tf_idf = vectorizer.fit_transform(filename)\n",
    "    \n",
    "    return vectorizer, tf_idf\n",
    "\n",
    "vectorizer, tf_idf = tf_idf_table(corpus_f)"
   ]
  },
  {
   "cell_type": "markdown",
   "metadata": {},
   "source": [
    "## Create score list\n",
    "1. Get list of query filenames\n",
    "* Iterate through all query and calculate scores by using cosine similarity between query and corpus\n",
    "\n",
    "### Return\n",
    "* **score_list**: 2d array, row: query, column, document\n",
    "\n",
    "=> sort this list to generate **rank_list** (list of document indexes)"
   ]
  },
  {
   "cell_type": "code",
   "execution_count": 8,
   "metadata": {},
   "outputs": [],
   "source": [
    "def score_list(query_f, vectorizer, tf_idf):\n",
    "    score_list = []\n",
    "    \n",
    "    for query in query_f:\n",
    "        query_tfidf = vectorizer.transform([query])\n",
    "        score_list.append(cosine_similarity(query_tfidf, tf_idf).flatten())\n",
    "    return np.array(score_list)\n",
    "\n",
    "# get score list\n",
    "score_list = score_list(query_f, vectorizer, tf_idf)\n",
    "\n",
    "# get rank list\n",
    "rank_list = np.flip(np.argsort(score_list), 1)"
   ]
  },
  {
   "attachments": {},
   "cell_type": "markdown",
   "metadata": {},
   "source": [
    "## Check relevance\n",
    "* **Rules**\n",
    "    * **1** if that document contains at least one words of the query AND that document belongs to the same class/category as the query\n",
    "    * **0** otherwise\n",
    "    \n",
    "    \n",
    "1. Load all queries\n",
    "* Iterate through all documents and check whether a document is relevant\n",
    "\n",
    "### Return\n",
    "* **relevance**: 2d array, row: query, column: document "
   ]
  },
  {
   "cell_type": "code",
   "execution_count": 9,
   "metadata": {},
   "outputs": [],
   "source": [
    "def check_relevance(query_f, corpus, rank_list, classes):\n",
    "    corpus_path = './20_newsgroups'\n",
    "    query = []\n",
    "    relevance = np.zeros(rank_list.shape)\n",
    "    \n",
    "    for item in query_f:\n",
    "        vectorizer = CountVectorizer(input='filename', decode_error='ignore')\n",
    "        vectorizer.fit_transform([item])\n",
    "        query.append(vectorizer.get_feature_names())\n",
    "    \n",
    "    for item in corpus:\n",
    "        doc_file = os.path.join(corpus_path, corpus[item][1], corpus[item][0])\n",
    "        vectorizer = CountVectorizer(input='filename', decode_error='ignore')\n",
    "        vectorizer.fit_transform([doc_file])\n",
    "        document = vectorizer.get_feature_names()\n",
    "        \n",
    "        for query_idx, query_val in enumerate(query):\n",
    "            if (classes[query_f[query_idx].split('_')[-1]] != classes[corpus[item][1]]):\n",
    "                continue\n",
    "            for word in query_val:\n",
    "                if word in document:\n",
    "                    relevance[query_idx][item] = 1\n",
    "                    \n",
    "    return relevance\n",
    "            \n",
    "relevance = check_relevance(query_f, corpus, rank_list, classes)"
   ]
  },
  {
   "cell_type": "markdown",
   "metadata": {},
   "source": [
    "## Evaluation\n",
    "* Calculate precision, recall, F-measure, AP based on rank list and relevance matrix"
   ]
  },
  {
   "cell_type": "code",
   "execution_count": 10,
   "metadata": {},
   "outputs": [
    {
     "name": "stderr",
     "output_type": "stream",
     "text": [
      "/Users/bqhuy/Desktop/venv/crawl/lib/python3.7/site-packages/ipykernel_launcher.py:18: RuntimeWarning: divide by zero encountered in double_scalars\n"
     ]
    }
   ],
   "source": [
    "def evaluation(rank_list, relevance):\n",
    "    precision = np.zeros(rank_list.shape)\n",
    "    recall = np.zeros(rank_list.shape)\n",
    "    f_measure = np.zeros(rank_list.shape)\n",
    "    ap = np.zeros(rank_list.shape[0])\n",
    "    \n",
    "    for query_idx, rank in enumerate(rank_list):\n",
    "        num_relevant = 0\n",
    "        total = 0\n",
    "        total_relevant = np.count_nonzero(relevance[query_idx])\n",
    "        for doc_idx in rank:\n",
    "            total += 1\n",
    "            if relevance[query_idx][doc_idx]:\n",
    "                num_relevant += 1\n",
    "                ap[query_idx] += num_relevant / total\n",
    "            precision[query_idx][total-1] = num_relevant / total\n",
    "            recall[query_idx][total-1] = num_relevant / total_relevant\n",
    "            f_measure[query_idx][total-1] = 2/(1/precision[query_idx][total-1] + 1/recall[query_idx][total-1])\n",
    "        ap[query_idx] /= total_relevant\n",
    "            \n",
    "    return precision, recall, f_measure, ap\n",
    "    \n",
    "precision, recall, f_measure, ap = evaluation(rank_list, relevance)"
   ]
  },
  {
   "cell_type": "markdown",
   "metadata": {},
   "source": [
    "## Graph\n",
    "* Draw **precision/recall** curve\n",
    "* Draw **F-measure** curve\n",
    "* Output **MAP**"
   ]
  },
  {
   "cell_type": "code",
   "execution_count": 11,
   "metadata": {},
   "outputs": [
    {
     "name": "stdout",
     "output_type": "stream",
     "text": [
      "Choose query index to show precision/recall graph: 0\n"
     ]
    },
    {
     "data": {
      "image/png": "[encoded data removed]",
      "text/plain": [
       "<Figure size 432x288 with 1 Axes>"
      ]
     },
     "metadata": {
      "needs_background": "light"
     },
     "output_type": "display_data"
    },
    {
     "data": {
      "image/png": "[encoded data removed]",
      "text/plain": [
       "<Figure size 432x288 with 1 Axes>"
      ]
     },
     "metadata": {
      "needs_background": "light"
     },
     "output_type": "display_data"
    },
    {
     "name": "stdout",
     "output_type": "stream",
     "text": [
      "MAP =  0.14236889716824944\n"
     ]
    }
   ],
   "source": [
    "# choose index of query\n",
    "c = input('Choose query index to show precision/recall graph: ')\n",
    "c = int(c)\n",
    "\n",
    "# draw precision/recall curve\n",
    "plt.subplot(2, 1, 1)\n",
    "plt.title('Precision/Recall curve')\n",
    "plt.xlabel('recall')\n",
    "plt.ylabel('precision')\n",
    "plt.plot(recall[c], precision[c])\n",
    "plt.axis([0, 1, 0, 1])\n",
    "plt.show()\n",
    "\n",
    "# draw f-measure\n",
    "plt.subplot(2, 1, 2)\n",
    "plt.title('F-measure curve')\n",
    "plt.ylabel('F-measure')\n",
    "plt.xlabel('Number of documents')\n",
    "plt.plot(range(f_measure.shape[1]), f_measure[c])\n",
    "plt.axis([0, f_measure.shape[1], 0, 1])\n",
    "plt.show()\n",
    "\n",
    "# MAP\n",
    "print('MAP = ', str(np.mean(ap)))"
   ]
  }
 ],
 "metadata": {
  "kernelspec": {
   "display_name": "Python 3",
   "language": "python",
   "name": "python3"
  },
  "language_info": {
   "codemirror_mode": {
    "name": "ipython",
    "version": 3
   },
   "file_extension": ".py",
   "mimetype": "text/x-python",
   "name": "python",
   "nbconvert_exporter": "python",
   "pygments_lexer": "ipython3",
   "version": "3.7.4"
  }
 },
 "nbformat": 4,
 "nbformat_minor": 2
}
